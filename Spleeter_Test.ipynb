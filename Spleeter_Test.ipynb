{
 "cells": [
  {
   "cell_type": "markdown",
   "metadata": {
    "tags": []
   },
   "source": [
    "# Settings\n",
    "## Import modules"
   ]
  },
  {
   "cell_type": "code",
   "execution_count": 1,
   "metadata": {},
   "outputs": [],
   "source": [
    "from spleeter.separator import Separator\n",
    "from spleeter.audio.adapter import AudioAdapter\n",
    "from multiprocessing import freeze_support"
   ]
  },
  {
   "cell_type": "markdown",
   "metadata": {},
   "source": [
    "## Defining method\n",
    "### Extract only percussive sound(drum) from audio samples"
   ]
  },
  {
   "cell_type": "code",
   "execution_count": 6,
   "metadata": {},
   "outputs": [],
   "source": [
    "def extract_stems(in_path, out_path, option=4):\n",
    "    separator=Separator(f\"spleeter:{4}stems\")\n",
    "    separator.separate_to_file(in_path, out_path)"
   ]
  },
  {
   "cell_type": "code",
   "execution_count": null,
   "metadata": {},
   "outputs": [
    {
     "name": "stdout",
     "output_type": "stream",
     "text": [
      "INFO:tensorflow:Apply unet for vocals_spectrogram\n",
      "INFO:tensorflow:Apply unet for drums_spectrogram\n",
      "INFO:tensorflow:Apply unet for bass_spectrogram\n",
      "INFO:tensorflow:Apply unet for other_spectrogram\n",
      "INFO:tensorflow:Restoring parameters from pretrained_models\\4stems\\model\n"
     ]
    }
   ],
   "source": [
    "if __name__=='__main__':\n",
    "    freeze_support()\n",
    "    extract_stems(\"./MeaningOfYouMixed.wav\", \"./MeaningOfYou_Spleeter\")"
   ]
  }
 ],
 "metadata": {
  "kernelspec": {
   "display_name": "spleeter",
   "language": "python",
   "name": "spleeter"
  },
  "language_info": {
   "codemirror_mode": {
    "name": "ipython",
    "version": 3
   },
   "file_extension": ".py",
   "mimetype": "text/x-python",
   "name": "python",
   "nbconvert_exporter": "python",
   "pygments_lexer": "ipython3",
   "version": "3.9.13"
  }
 },
 "nbformat": 4,
 "nbformat_minor": 4
}
